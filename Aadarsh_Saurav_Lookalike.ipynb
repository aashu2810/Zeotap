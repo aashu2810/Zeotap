{
 "cells": [
  {
   "cell_type": "code",
   "execution_count": 1,
   "id": "6e02984d",
   "metadata": {},
   "outputs": [],
   "source": [
    "import pandas as pd\n",
    "from sklearn.preprocessing import StandardScaler\n",
    "from sklearn.metrics.pairwise import cosine_similarity\n"
   ]
  },
  {
   "cell_type": "markdown",
   "id": "3a117c99",
   "metadata": {},
   "source": [
    "# Load data"
   ]
  },
  {
   "cell_type": "code",
   "execution_count": 2,
   "id": "b5cc522a",
   "metadata": {},
   "outputs": [],
   "source": [
    "customers_df = pd.read_csv(\"Customers.csv\")\n",
    "products_df = pd.read_csv(\"Products.csv\")\n",
    "transactions_df = pd.read_csv(\"Transactions.csv\")"
   ]
  },
  {
   "cell_type": "markdown",
   "id": "2b317d69",
   "metadata": {},
   "source": [
    "# Merge datasets"
   ]
  },
  {
   "cell_type": "code",
   "execution_count": 3,
   "id": "b38c3423",
   "metadata": {},
   "outputs": [],
   "source": [
    "transactions_products = pd.merge(transactions_df, products_df, on=\"ProductID\", how=\"left\")\n",
    "full_data = pd.merge(transactions_products, customers_df, on=\"CustomerID\", how=\"left\")\n"
   ]
  },
  {
   "cell_type": "markdown",
   "id": "c489d7f0",
   "metadata": {},
   "source": [
    "# Feature engineering"
   ]
  },
  {
   "cell_type": "code",
   "execution_count": 4,
   "id": "0af562ce",
   "metadata": {},
   "outputs": [],
   "source": [
    "customer_total_spend = full_data.groupby(\"CustomerID\")[\"TotalValue\"].sum()\n",
    "customer_purchase_frequency = full_data.groupby(\"CustomerID\")[\"TransactionID\"].count()\n",
    "customer_avg_spend = customer_total_spend / customer_purchase_frequency\n"
   ]
  },
  {
   "cell_type": "markdown",
   "id": "f72d3d04",
   "metadata": {},
   "source": [
    "# One-hot encode product categories"
   ]
  },
  {
   "cell_type": "code",
   "execution_count": 5,
   "id": "aa415be8",
   "metadata": {},
   "outputs": [],
   "source": [
    "category_dummies = pd.get_dummies(full_data[\"Category\"], prefix=\"Category\")\n",
    "full_data_with_dummies = pd.concat([full_data, category_dummies], axis=1)\n",
    "category_preferences = full_data_with_dummies.groupby(\"CustomerID\")[category_dummies.columns].sum()"
   ]
  },
  {
   "cell_type": "markdown",
   "id": "ee0a82ed",
   "metadata": {},
   "source": [
    "# Combine all features"
   ]
  },
  {
   "cell_type": "code",
   "execution_count": 6,
   "id": "1e3a6450",
   "metadata": {},
   "outputs": [],
   "source": [
    "customer_profiles = pd.DataFrame({\n",
    "    \"TotalSpend\": customer_total_spend,\n",
    "    \"PurchaseFrequency\": customer_purchase_frequency,\n",
    "    \"AvgSpend\": customer_avg_spend\n",
    "}).join(category_preferences)"
   ]
  },
  {
   "cell_type": "markdown",
   "id": "7cdc9b6a",
   "metadata": {},
   "source": [
    "# Normalize features"
   ]
  },
  {
   "cell_type": "code",
   "execution_count": 7,
   "id": "41560fcf",
   "metadata": {},
   "outputs": [],
   "source": [
    "scaler = StandardScaler()\n",
    "customer_profiles_normalized = pd.DataFrame(\n",
    "    scaler.fit_transform(customer_profiles),\n",
    "    index=customer_profiles.index,\n",
    "    columns=customer_profiles.columns\n",
    ")"
   ]
  },
  {
   "cell_type": "markdown",
   "id": "2b390c2a",
   "metadata": {},
   "source": [
    "# Compute cosine similarity"
   ]
  },
  {
   "cell_type": "code",
   "execution_count": 8,
   "id": "fd7637db",
   "metadata": {},
   "outputs": [],
   "source": [
    "similarity_matrix = cosine_similarity(customer_profiles_normalized)\n",
    "similarity_df = pd.DataFrame(\n",
    "    similarity_matrix,\n",
    "    index=customer_profiles_normalized.index,\n",
    "    columns=customer_profiles_normalized.index\n",
    ")"
   ]
  },
  {
   "cell_type": "markdown",
   "id": "138d1dcb",
   "metadata": {},
   "source": [
    "# Find top 3 lookalikes for each customer"
   ]
  },
  {
   "cell_type": "code",
   "execution_count": 9,
   "id": "8c0461bf",
   "metadata": {},
   "outputs": [],
   "source": [
    "def get_top_lookalikes(customer_id, top_n=3):\n",
    "    scores = similarity_df.loc[customer_id].drop(customer_id)\n",
    "    top_customers = scores.nlargest(top_n).index\n",
    "    top_scores = scores.nlargest(top_n).values\n",
    "    return list(zip(top_customers, top_scores))\n",
    "\n",
    "lookalike_map = {\n",
    "    customer_id: get_top_lookalikes(customer_id)\n",
    "    for customer_id in [f\"C{str(i).zfill(4)}\" for i in range(1, 21)]\n",
    "}"
   ]
  },
  {
   "cell_type": "markdown",
   "id": "db246b41",
   "metadata": {},
   "source": [
    "# Save lookalike map to CSV"
   ]
  },
  {
   "cell_type": "code",
   "execution_count": 10,
   "id": "094048bf",
   "metadata": {},
   "outputs": [
    {
     "name": "stdout",
     "output_type": "stream",
     "text": [
      "Lookalike.csv generated successfully.\n"
     ]
    }
   ],
   "source": [
    "lookalike_df = pd.DataFrame({\n",
    "    \"CustomerID\": lookalike_map.keys(),\n",
    "    \"Lookalikes\": [str(lookalike_map[cust_id]) for cust_id in lookalike_map.keys()]\n",
    "})\n",
    "\n",
    "lookalike_df.to_csv(\"Lookalike.csv\", index=False)\n",
    "print(\"Lookalike.csv generated successfully.\")"
   ]
  },
  {
   "cell_type": "code",
   "execution_count": null,
   "id": "43d46c60",
   "metadata": {},
   "outputs": [],
   "source": []
  }
 ],
 "metadata": {
  "kernelspec": {
   "display_name": "Python 3 (ipykernel)",
   "language": "python",
   "name": "python3"
  },
  "language_info": {
   "codemirror_mode": {
    "name": "ipython",
    "version": 3
   },
   "file_extension": ".py",
   "mimetype": "text/x-python",
   "name": "python",
   "nbconvert_exporter": "python",
   "pygments_lexer": "ipython3",
   "version": "3.11.5"
  }
 },
 "nbformat": 4,
 "nbformat_minor": 5
}
